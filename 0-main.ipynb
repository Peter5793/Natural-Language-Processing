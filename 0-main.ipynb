{
 "cells": [
  {
   "cell_type": "code",
   "execution_count": 1,
   "id": "71ab29cd",
   "metadata": {},
   "outputs": [],
   "source": [
    "import nltk"
   ]
  },
  {
   "cell_type": "code",
   "execution_count": 11,
   "id": "a6c33ee7",
   "metadata": {},
   "outputs": [
    {
     "name": "stderr",
     "output_type": "stream",
     "text": [
      "[nltk_data] Downloading package stopwords to\n",
      "[nltk_data]     C:\\Users\\hp\\AppData\\Roaming\\nltk_data...\n",
      "[nltk_data]   Package stopwords is already up-to-date!\n"
     ]
    }
   ],
   "source": [
    "from nltk.corpus import stopwords\n",
    "nltk.download('stopwords')\n",
    "stop = stopwords.words('german')"
   ]
  },
  {
   "cell_type": "code",
   "execution_count": 12,
   "id": "1a357080",
   "metadata": {},
   "outputs": [],
   "source": [
    "import pandas as pd\n",
    "import numpy as np"
   ]
  },
  {
   "cell_type": "code",
   "execution_count": 13,
   "id": "9669ee62",
   "metadata": {},
   "outputs": [],
   "source": [
    "pos_tweets = [('Ich liebe dieses Auto', 'positive'),\n",
    "    ('Diese Aussicht ist erstaunlich', 'positive'),\n",
    "    ('Ich fühle mich großartig heute Morgen', 'positive'),\n",
    "    ('Ich bin so aufgeregt wegen des Konzerts', 'positive'),\n",
    "    ('Er ist mein bester Freund', 'positive')]"
   ]
  },
  {
   "cell_type": "code",
   "execution_count": 14,
   "id": "855bcc1a",
   "metadata": {},
   "outputs": [],
   "source": [
    "test = pd.DataFrame(pos_tweets)\n",
    "test.columns =[\"tweet\", \"class\"]"
   ]
  },
  {
   "cell_type": "code",
   "execution_count": 15,
   "id": "690e5b1d",
   "metadata": {},
   "outputs": [],
   "source": [
    "test['test_without_stopwords'] = test['tweet'].apply(lambda x: \n",
    "                                                    ' '.join([word for word in x.split() if word not in (stop)]))"
   ]
  },
  {
   "cell_type": "code",
   "execution_count": 16,
   "id": "aec92b54",
   "metadata": {},
   "outputs": [
    {
     "name": "stdout",
     "output_type": "stream",
     "text": [
      "                                     tweet     class  \\\n",
      "0                    Ich liebe dieses Auto  positive   \n",
      "1           Diese Aussicht ist erstaunlich  positive   \n",
      "2    Ich fühle mich großartig heute Morgen  positive   \n",
      "3  Ich bin so aufgeregt wegen des Konzerts  positive   \n",
      "4                Er ist mein bester Freund  positive   \n",
      "\n",
      "             test_without_stopwords  \n",
      "0                    Ich liebe Auto  \n",
      "1        Diese Aussicht erstaunlich  \n",
      "2  Ich fühle großartig heute Morgen  \n",
      "3      Ich aufgeregt wegen Konzerts  \n",
      "4                  Er bester Freund  \n"
     ]
    }
   ],
   "source": [
    "print(test)"
   ]
  },
  {
   "cell_type": "code",
   "execution_count": null,
   "id": "3c00efdf",
   "metadata": {},
   "outputs": [],
   "source": []
  }
 ],
 "metadata": {
  "kernelspec": {
   "display_name": "Python 3 (ipykernel)",
   "language": "python",
   "name": "python3"
  },
  "language_info": {
   "codemirror_mode": {
    "name": "ipython",
    "version": 3
   },
   "file_extension": ".py",
   "mimetype": "text/x-python",
   "name": "python",
   "nbconvert_exporter": "python",
   "pygments_lexer": "ipython3",
   "version": "3.9.7"
  }
 },
 "nbformat": 4,
 "nbformat_minor": 5
}
